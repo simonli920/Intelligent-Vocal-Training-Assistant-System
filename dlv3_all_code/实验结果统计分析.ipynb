{
 "cells": [
  {
   "cell_type": "markdown",
   "metadata": {},
   "source": [
    "跨人准确率"
   ]
  },
  {
   "cell_type": "code",
   "execution_count": 1,
   "metadata": {},
   "outputs": [
    {
     "name": "stdout",
     "output_type": "stream",
     "text": [
      "hjk 0.7619047619047619\n",
      "sjy 0.7464788732394366\n",
      "lhl 0.7333333333333333\n",
      "gys 0.7037037037037037\n",
      "lzb 0.7037037037037037\n",
      "yxs 0.6836734693877551\n",
      "lq 0.6341463414634146\n",
      "ysd 0.6176470588235294\n",
      "zym 0.6052631578947368\n",
      "zwj 0.603448275862069\n",
      "lab 0.5985401459854015\n",
      "yhs 0.594059405940594\n",
      "lm 0.5858585858585859\n",
      "yyp 0.5774647887323944\n",
      "ykn 0.5620915032679739\n",
      "lyh 0.5508474576271186\n",
      "wgn 0.5486725663716814\n",
      "gm 0.5142857142857142\n",
      "lst 0.5041322314049587\n",
      "qy 0.5\n"
     ]
    }
   ],
   "source": [
    "a = [0.5142857142857142, 0.7037037037037037, 0.7619047619047619, 0.5985401459854015, \n",
    "     0.7333333333333333, 0.5858585858585859, 0.6341463414634146, 0.5041322314049587, \n",
    "     0.5508474576271186, 0.7037037037037037, 0.5, 0.7464788732394366, 0.5486725663716814, \n",
    "     0.594059405940594, 0.5620915032679739, 0.6176470588235294, 0.6836734693877551, 0.5774647887323944, \n",
    "     0.603448275862069, 0.6052631578947368]\n",
    "\n",
    "b = ['gm', 'gys', 'hjk', 'lab', 'lhl',\n",
    "     'lm', 'lq', 'lst', 'lyh', 'lzb',\n",
    "     'qy', 'sjy', 'wgn', 'yhs', 'ykn',\n",
    "     'ysd', 'yxs', 'yyp', 'zwj', 'zym']\n",
    "acc = {}\n",
    "for key,value in zip(b,a):\n",
    "    acc[key] = value\n",
    "b.sort(key=lambda x: acc[x],reverse=True)\n",
    "for name in b:\n",
    "    print(name, acc[name])"
   ]
  }
 ],
 "metadata": {
  "kernelspec": {
   "display_name": "Python 3",
   "language": "python",
   "name": "python3"
  },
  "language_info": {
   "codemirror_mode": {
    "name": "ipython",
    "version": 3
   },
   "file_extension": ".py",
   "mimetype": "text/x-python",
   "name": "python",
   "nbconvert_exporter": "python",
   "pygments_lexer": "ipython3",
   "version": "3.8.3"
  }
 },
 "nbformat": 4,
 "nbformat_minor": 4
}
